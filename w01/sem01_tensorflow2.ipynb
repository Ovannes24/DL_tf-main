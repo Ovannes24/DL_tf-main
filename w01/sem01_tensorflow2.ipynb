{
 "cells": [
  {
   "cell_type": "markdown",
   "metadata": {},
   "source": [
    "# Семинар 1: введение в Tensorflow"
   ]
  },
  {
   "cell_type": "markdown",
   "metadata": {},
   "source": [
    "Фрэймворком для обучения нейросеток на нашем курсе будет Tensorflow. Чтобы установить библиотеку, отправляйтесь в консоль и пропишите \n",
    "\n",
    "```\n",
    "pip install tensorflow \n",
    "```\n",
    "\n",
    "Мы будем использовать вторую версию. Если вы до этого сидели на старой версии tensorflow, на всякий случай снесите её. Иначе при установке могут возникнуть какие-нибудь несовместимости и ошибки."
   ]
  },
  {
   "cell_type": "code",
   "execution_count": 1,
   "metadata": {},
   "outputs": [
    {
     "name": "stdout",
     "output_type": "stream",
     "text": [
      "/bin/bash: pip: command not found\r\n"
     ]
    }
   ],
   "source": [
    "!pip install tensorflow"
   ]
  },
  {
   "cell_type": "code",
   "execution_count": 1,
   "metadata": {},
   "outputs": [
    {
     "data": {
      "text/plain": [
       "'1.22.3'"
      ]
     },
     "execution_count": 1,
     "metadata": {},
     "output_type": "execute_result"
    }
   ],
   "source": [
    "import numpy as np\n",
    "np.__version__"
   ]
  },
  {
   "cell_type": "code",
   "execution_count": 2,
   "metadata": {},
   "outputs": [
    {
     "data": {
      "text/plain": [
       "'2.9.1'"
      ]
     },
     "execution_count": 2,
     "metadata": {},
     "output_type": "execute_result"
    }
   ],
   "source": [
    "import tensorflow as tf\n",
    "tf.__version__ "
   ]
  },
  {
   "cell_type": "code",
   "execution_count": 35,
   "metadata": {},
   "outputs": [],
   "source": [
    "import matplotlib.pyplot as plt"
   ]
  },
  {
   "cell_type": "markdown",
   "metadata": {},
   "source": [
    "# 0. Tensoflow teaser\n",
    "\n",
    "Давайте реализуем на `numpy` и на `tensorflow` функцию для поиска суммы квадратов первых $N$ чисел и посмотрим насколько быстро эти функции работают."
   ]
  },
  {
   "cell_type": "code",
   "execution_count": 3,
   "metadata": {},
   "outputs": [
    {
     "data": {
      "text/plain": [
       "285"
      ]
     },
     "execution_count": 3,
     "metadata": {},
     "output_type": "execute_result"
    }
   ],
   "source": [
    "np.sum(np.arange(10)**2)"
   ]
  },
  {
   "cell_type": "code",
   "execution_count": 4,
   "metadata": {},
   "outputs": [],
   "source": [
    "def np_sum_squares(N):\n",
    "    return np.sum(np.arange(N)**2)"
   ]
  },
  {
   "cell_type": "code",
   "execution_count": 5,
   "metadata": {},
   "outputs": [
    {
     "name": "stdout",
     "output_type": "stream",
     "text": [
      "696 ms ± 70 ms per loop (mean ± std. dev. of 7 runs, 1 loop each)\n"
     ]
    }
   ],
   "source": [
    "%%timeit\n",
    "N = 10**8\n",
    "np_sum_squares(N)"
   ]
  },
  {
   "cell_type": "markdown",
   "metadata": {},
   "source": [
    "Tensorflow из-за того, что мы сначала задаём структуру вычислений, а после осуществляем их, работает быстрее."
   ]
  },
  {
   "cell_type": "code",
   "execution_count": 6,
   "metadata": {},
   "outputs": [],
   "source": [
    "def tf_sum_squares(N):\n",
    "    N = tf.constant(N, dtype='int64')\n",
    "    return tf.reduce_sum((tf.range(N)**2))"
   ]
  },
  {
   "cell_type": "code",
   "execution_count": 7,
   "metadata": {},
   "outputs": [
    {
     "name": "stdout",
     "output_type": "stream",
     "text": [
      "879 ms ± 71.6 ms per loop (mean ± std. dev. of 7 runs, 1 loop each)\n"
     ]
    }
   ],
   "source": [
    "%%timeit\n",
    "N = 10**8\n",
    "tf_sum_squares(N)"
   ]
  },
  {
   "cell_type": "markdown",
   "metadata": {},
   "source": [
    "Более того, когда вы уже задали свой граф вычислений и убедились, что всё работает, можно вызвать декоратор `tf.function`. [Он сделает работу заданного графа](https://www.tensorflow.org/tutorials/customization/performance) более оптимальной и ещё сильнее ускорит код. "
   ]
  },
  {
   "cell_type": "code",
   "execution_count": 8,
   "metadata": {},
   "outputs": [],
   "source": [
    "@tf.function\n",
    "def tf_sum_squares(N):\n",
    "    N = tf.constant(N, dtype='int64')\n",
    "    return tf.reduce_sum((tf.range(N)**2))"
   ]
  },
  {
   "cell_type": "code",
   "execution_count": 9,
   "metadata": {},
   "outputs": [
    {
     "name": "stdout",
     "output_type": "stream",
     "text": [
      "The slowest run took 36.58 times longer than the fastest. This could mean that an intermediate result is being cached.\n",
      "4.49 ms ± 8.73 ms per loop (mean ± std. dev. of 7 runs, 1 loop each)\n"
     ]
    }
   ],
   "source": [
    "%%timeit\n",
    "N = 10**8\n",
    "tf_sum_squares(N)"
   ]
  },
  {
   "cell_type": "markdown",
   "metadata": {},
   "source": [
    "Если сравнивать время, то мы видим значительный прогресс в скорости вычислений даже для простой задачи. Данный прирост будет значительно большим для тяжелых рассчетов."
   ]
  },
  {
   "cell_type": "markdown",
   "metadata": {},
   "source": [
    "# 1. Тензоры и базовые операции над ними\n",
    "\n",
    "Основной объект в tensorflow - это **тензор.** Или многомерный массив чисел. Чтобы не нужно было учить кучу новых команд, tensorflow косплеит numpy. \n",
    "\n",
    "```\n",
    "    np.zeros -> tf.zeros\n",
    "    np.sin -> tf.sin\n",
    "    np.mean -> tf.reduce_mean\n",
    "    np.arange -> tf.range\n",
    "    np.cumsum -> tf.cumsum\n",
    "```\n",
    "\n",
    "Правда говоря, не совсем косплеит. Но чаще всего оказываетс довольно близок."
   ]
  },
  {
   "cell_type": "code",
   "execution_count": 10,
   "metadata": {},
   "outputs": [
    {
     "data": {
      "text/plain": [
       "<tf.Tensor: shape=(3, 4), dtype=float32, numpy=\n",
       "array([[0., 0., 0., 0.],\n",
       "       [0., 0., 0., 0.],\n",
       "       [0., 0., 0., 0.]], dtype=float32)>"
      ]
     },
     "execution_count": 10,
     "metadata": {},
     "output_type": "execute_result"
    }
   ],
   "source": [
    "# можно задать тензор из нулей\n",
    "tf.zeros([3, 4])"
   ]
  },
  {
   "cell_type": "code",
   "execution_count": 11,
   "metadata": {},
   "outputs": [
    {
     "data": {
      "text/plain": [
       "<tf.Tensor: shape=(3, 4, 2), dtype=float32, numpy=\n",
       "array([[[1., 1.],\n",
       "        [1., 1.],\n",
       "        [1., 1.],\n",
       "        [1., 1.]],\n",
       "\n",
       "       [[1., 1.],\n",
       "        [1., 1.],\n",
       "        [1., 1.],\n",
       "        [1., 1.]],\n",
       "\n",
       "       [[1., 1.],\n",
       "        [1., 1.],\n",
       "        [1., 1.],\n",
       "        [1., 1.]]], dtype=float32)>"
      ]
     },
     "execution_count": 11,
     "metadata": {},
     "output_type": "execute_result"
    }
   ],
   "source": [
    "# или из единиц, но уже более сложной размерности\n",
    "tf.ones([3, 4, 2])"
   ]
  },
  {
   "cell_type": "code",
   "execution_count": 12,
   "metadata": {},
   "outputs": [
    {
     "data": {
      "text/plain": [
       "<tf.Tensor: shape=(2, 2), dtype=float32, numpy=\n",
       "array([[-0.5154415 ,  0.49693212],\n",
       "       [-0.08488833,  1.1434964 ]], dtype=float32)>"
      ]
     },
     "execution_count": 12,
     "metadata": {},
     "output_type": "execute_result"
    }
   ],
   "source": [
    "# можно сгенерировать тензор из нормального распределения\n",
    "tf.random.normal([2,2])"
   ]
  },
  {
   "cell_type": "code",
   "execution_count": 13,
   "metadata": {},
   "outputs": [
    {
     "data": {
      "text/plain": [
       "<tf.Tensor: shape=(2, 2), dtype=float32, numpy=\n",
       "array([[0.5, 0.5],\n",
       "       [0.5, 0.5]], dtype=float32)>"
      ]
     },
     "execution_count": 13,
     "metadata": {},
     "output_type": "execute_result"
    }
   ],
   "source": [
    "# можно просто сделать залифку тензора какими-то числами\n",
    "tf.fill([2, 2], 0.5)"
   ]
  },
  {
   "cell_type": "code",
   "execution_count": 14,
   "metadata": {},
   "outputs": [
    {
     "data": {
      "text/plain": [
       "array([[1, 2, 3, 4],\n",
       "       [4, 3, 2, 1]])"
      ]
     },
     "execution_count": 14,
     "metadata": {},
     "output_type": "execute_result"
    }
   ],
   "source": [
    "# можно создать матрицу в numpy\n",
    "x = np.array([[1, 2, 3, 4],\n",
    "              [4, 3, 2, 1]])\n",
    "x"
   ]
  },
  {
   "cell_type": "code",
   "execution_count": 15,
   "metadata": {},
   "outputs": [
    {
     "data": {
      "text/plain": [
       "<tf.Tensor: shape=(2, 4), dtype=float32, numpy=\n",
       "array([[1., 2., 3., 4.],\n",
       "       [4., 3., 2., 1.]], dtype=float32)>"
      ]
     },
     "execution_count": 15,
     "metadata": {},
     "output_type": "execute_result"
    }
   ],
   "source": [
    "# а потом перевести её в тензор\n",
    "tf.convert_to_tensor(x, tf.float32) "
   ]
  },
  {
   "cell_type": "code",
   "execution_count": 16,
   "metadata": {},
   "outputs": [
    {
     "data": {
      "text/plain": [
       "<tf.Tensor: shape=(3, 4), dtype=int32, numpy=\n",
       "array([[ 1,  2,  3,  4],\n",
       "       [ 5,  6,  7,  8],\n",
       "       [ 9, 10, 11, 12]])>"
      ]
     },
     "execution_count": 16,
     "metadata": {},
     "output_type": "execute_result"
    }
   ],
   "source": [
    "# или можно просто сразу создать тензор \n",
    "tf.constant([[1,  2,  3,  4],\n",
    "             [5,  6,  7,  8],\n",
    "             [9, 10, 11, 12]])"
   ]
  },
  {
   "cell_type": "code",
   "execution_count": 17,
   "metadata": {},
   "outputs": [],
   "source": [
    "# наверное, стоит уточнить тип данных в тензоре\n",
    "x = tf.constant([[1,  2,  3,  4],\n",
    "                 [5,  6,  7,  8],\n",
    "                 [9, 10, 11, 12]], dtype=tf.float32)"
   ]
  },
  {
   "cell_type": "markdown",
   "metadata": {},
   "source": [
    "Все срезы, операции, размерности работают как в numpy."
   ]
  },
  {
   "cell_type": "code",
   "execution_count": 18,
   "metadata": {},
   "outputs": [
    {
     "data": {
      "text/plain": [
       "tf.float32"
      ]
     },
     "execution_count": 18,
     "metadata": {},
     "output_type": "execute_result"
    }
   ],
   "source": [
    "x.dtype"
   ]
  },
  {
   "cell_type": "code",
   "execution_count": 19,
   "metadata": {},
   "outputs": [
    {
     "data": {
      "text/plain": [
       "TensorShape([3, 4])"
      ]
     },
     "execution_count": 19,
     "metadata": {},
     "output_type": "execute_result"
    }
   ],
   "source": [
    "x.shape"
   ]
  },
  {
   "cell_type": "code",
   "execution_count": 20,
   "metadata": {},
   "outputs": [
    {
     "data": {
      "text/plain": [
       "<tf.Tensor: shape=(4,), dtype=float32, numpy=array([1., 2., 3., 4.], dtype=float32)>"
      ]
     },
     "execution_count": 20,
     "metadata": {},
     "output_type": "execute_result"
    }
   ],
   "source": [
    "x[0]"
   ]
  },
  {
   "cell_type": "code",
   "execution_count": 21,
   "metadata": {},
   "outputs": [
    {
     "data": {
      "text/plain": [
       "<tf.Tensor: shape=(3,), dtype=float32, numpy=array([ 2.,  6., 10.], dtype=float32)>"
      ]
     },
     "execution_count": 21,
     "metadata": {},
     "output_type": "execute_result"
    }
   ],
   "source": [
    "x[:,1]"
   ]
  },
  {
   "cell_type": "code",
   "execution_count": 22,
   "metadata": {},
   "outputs": [
    {
     "data": {
      "text/plain": [
       "<tf.Tensor: shape=(3, 4), dtype=float32, numpy=\n",
       "array([[11., 12., 13., 14.],\n",
       "       [15., 16., 17., 18.],\n",
       "       [19., 20., 21., 22.]], dtype=float32)>"
      ]
     },
     "execution_count": 22,
     "metadata": {},
     "output_type": "execute_result"
    }
   ],
   "source": [
    "x + 10"
   ]
  },
  {
   "cell_type": "code",
   "execution_count": 23,
   "metadata": {},
   "outputs": [
    {
     "data": {
      "text/plain": [
       "<tf.Tensor: shape=(9,), dtype=float32, numpy=array([ 4.,  5.,  6.,  7.,  8.,  9., 10., 11., 12.], dtype=float32)>"
      ]
     },
     "execution_count": 23,
     "metadata": {},
     "output_type": "execute_result"
    }
   ],
   "source": [
    "x[x > 3]"
   ]
  },
  {
   "cell_type": "code",
   "execution_count": 24,
   "metadata": {},
   "outputs": [],
   "source": [
    "y = tf.constant([[12, 11, 10, 9],\n",
    "                  [8, 7, 6, 5],\n",
    "                  [4, 3, 2, 1]], dtype=tf.float32)"
   ]
  },
  {
   "cell_type": "code",
   "execution_count": 25,
   "metadata": {},
   "outputs": [
    {
     "data": {
      "text/plain": [
       "<tf.Tensor: shape=(3, 4), dtype=float32, numpy=\n",
       "array([[13., 13., 13., 13.],\n",
       "       [13., 13., 13., 13.],\n",
       "       [13., 13., 13., 13.]], dtype=float32)>"
      ]
     },
     "execution_count": 25,
     "metadata": {},
     "output_type": "execute_result"
    }
   ],
   "source": [
    "x + y"
   ]
  },
  {
   "cell_type": "code",
   "execution_count": 26,
   "metadata": {},
   "outputs": [
    {
     "data": {
      "text/plain": [
       "<tf.Tensor: shape=(3, 4), dtype=float32, numpy=\n",
       "array([[1.00000e+00, 2.04800e+03, 5.90490e+04, 2.62144e+05],\n",
       "       [3.90625e+05, 2.79936e+05, 1.17649e+05, 3.27680e+04],\n",
       "       [6.56100e+03, 1.00000e+03, 1.21000e+02, 1.20000e+01]],\n",
       "      dtype=float32)>"
      ]
     },
     "execution_count": 26,
     "metadata": {},
     "output_type": "execute_result"
    }
   ],
   "source": [
    "x**y"
   ]
  },
  {
   "cell_type": "code",
   "execution_count": 27,
   "metadata": {},
   "outputs": [
    {
     "data": {
      "text/plain": [
       "<tf.Tensor: shape=(3, 4), dtype=float32, numpy=\n",
       "array([[2.7182817e+00, 7.3890562e+00, 2.0085537e+01, 5.4598148e+01],\n",
       "       [1.4841316e+02, 4.0342877e+02, 1.0966332e+03, 2.9809580e+03],\n",
       "       [8.1030835e+03, 2.2026465e+04, 5.9874141e+04, 1.6275478e+05]],\n",
       "      dtype=float32)>"
      ]
     },
     "execution_count": 27,
     "metadata": {},
     "output_type": "execute_result"
    }
   ],
   "source": [
    "tf.math.exp(x)"
   ]
  },
  {
   "cell_type": "code",
   "execution_count": 28,
   "metadata": {},
   "outputs": [
    {
     "data": {
      "text/plain": [
       "array([[ 1.,  2.,  3.,  4.],\n",
       "       [ 5.,  6.,  7.,  8.],\n",
       "       [ 9., 10., 11., 12.]], dtype=float32)"
      ]
     },
     "execution_count": 28,
     "metadata": {},
     "output_type": "execute_result"
    }
   ],
   "source": [
    "# Когда надоело работать с тензором, можно вернуться назад в numpy формат\n",
    "x.numpy() "
   ]
  },
  {
   "cell_type": "code",
   "execution_count": 29,
   "metadata": {},
   "outputs": [
    {
     "data": {
      "text/plain": [
       "<tf.Tensor: shape=(), dtype=string, numpy=b'hello world'>"
      ]
     },
     "execution_count": 29,
     "metadata": {},
     "output_type": "execute_result"
    }
   ],
   "source": [
    "# тип у тензоров может быть разный, но всегда один\n",
    "tf.constant(\"hello world\")"
   ]
  },
  {
   "cell_type": "markdown",
   "metadata": {},
   "source": [
    "### Задание 1:\n",
    "\n",
    "Попробуйте реализовать на tensorflow сигмоиду. \n",
    "\n",
    "$$ \\sigma(x) = \\frac{1}{1 + e^{-x}} $$"
   ]
  },
  {
   "cell_type": "code",
   "execution_count": 36,
   "metadata": {},
   "outputs": [
    {
     "data": {
      "image/png": "[encoded data removed]",
      "text/plain": [
       "<Figure size 432x288 with 1 Axes>"
      ]
     },
     "metadata": {
      "needs_background": "light"
     },
     "output_type": "display_data"
    }
   ],
   "source": [
    "# ващ код  ¯\\_(⊙︿⊙)_/¯\n",
    "x = tf.linspace(-20, 20, 1000)\n",
    "\n",
    "@tf.function\n",
    "def sigm(x):\n",
    "    return 1/(1+tf.math.exp(-x))\n",
    "\n",
    "y = sigm(x)\n",
    "\n",
    "plt.plot(x, y);"
   ]
  },
  {
   "cell_type": "markdown",
   "metadata": {},
   "source": [
    "### Задание 2:\n",
    "\n",
    "Попробуйте реализовать на tensorflow среднюю квадратичную ошибку. \n",
    "\n",
    "$$ \n",
    "MSE(\\hat y, y) = \\sum_{i=1}^n (\\hat y - y)^2\n",
    "$$"
   ]
  },
  {
   "cell_type": "code",
   "execution_count": 37,
   "metadata": {},
   "outputs": [
    {
     "data": {
      "text/plain": [
       "<tf.Tensor: shape=(), dtype=float32, numpy=22.0>"
      ]
     },
     "execution_count": 37,
     "metadata": {},
     "output_type": "execute_result"
    }
   ],
   "source": [
    "# ваш код  ¯\\_(⊙︿⊙)_/¯\n",
    "y_pred = tf.constant([1, 2, 3, 4, 5], dtype=tf.float32)\n",
    "y_test = np.array([-1, 3, 4, 6, -5])\n",
    "\n",
    "y_test = tf.convert_to_tensor(y_test, tf.float32) \n",
    "\n",
    "@tf.function\n",
    "def MSE(y_,  y):\n",
    "    return tf.reduce_mean(tf.pow(y_ - y, 2))\n",
    "\n",
    "z = MSE(y_test, y_pred)\n",
    "z"
   ]
  },
  {
   "cell_type": "markdown",
   "metadata": {},
   "source": [
    "------------------------------------------"
   ]
  },
  {
   "cell_type": "markdown",
   "metadata": {},
   "source": [
    "# 2. Производные да градиенты\n",
    "\n",
    "Тензорфлоу может вычислять производные и градиенты автоматически. Для этого используется [`GradientTape.`](https://www.tensorflow.org/tutorials/customization/autodiff)\n",
    "\n",
    "Он проходит по всем операциям, которые фигурируют в графе, и применяет к ним chain rule:\n",
    "\n",
    "$$ {\\partial f(g(x)) \\over \\partial x} = {\\partial f(g(x)) \\over \\partial g(x)}\\cdot {\\partial g(x) \\over \\partial x} $$\n",
    "\n",
    "Мы можем посчитать производную по любому тензору, участвующему в вычислениях."
   ]
  },
  {
   "cell_type": "code",
   "execution_count": 38,
   "metadata": {},
   "outputs": [],
   "source": [
    "x = tf.constant([0.3, 1])\n",
    "\n",
    "# опция persistent=True позволяет искать производную много раз, а не один\n",
    "with tf.GradientTape(persistent=True) as t:\n",
    "    t.watch(x)\n",
    "    y = tf.reduce_sum(x)\n",
    "    z = y**2"
   ]
  },
  {
   "cell_type": "code",
   "execution_count": 39,
   "metadata": {},
   "outputs": [
    {
     "data": {
      "text/plain": [
       "<tf.Tensor: shape=(2,), dtype=float32, numpy=array([2.6, 2.6], dtype=float32)>"
      ]
     },
     "execution_count": 39,
     "metadata": {},
     "output_type": "execute_result"
    }
   ],
   "source": [
    "t.gradient(z, x)"
   ]
  },
  {
   "cell_type": "code",
   "execution_count": 40,
   "metadata": {},
   "outputs": [
    {
     "data": {
      "text/plain": [
       "<tf.Tensor: shape=(), dtype=float32, numpy=2.6>"
      ]
     },
     "execution_count": 40,
     "metadata": {},
     "output_type": "execute_result"
    }
   ],
   "source": [
    "t.gradient(z, y)"
   ]
  },
  {
   "cell_type": "markdown",
   "metadata": {},
   "source": [
    "Нарисуем функцию и её производную на картинке :) "
   ]
  },
  {
   "cell_type": "code",
   "execution_count": 41,
   "metadata": {},
   "outputs": [
    {
     "data": {
      "image/png": "[encoded data removed]",
      "text/plain": [
       "<Figure size 432x288 with 1 Axes>"
      ]
     },
     "metadata": {
      "needs_background": "light"
     },
     "output_type": "display_data"
    }
   ],
   "source": [
    "import matplotlib.pyplot as plt\n",
    "%matplotlib inline\n",
    "\n",
    "x = tf.linspace(-3., 3., 100)\n",
    "\n",
    "with tf.GradientTape(persistent=True) as t:\n",
    "    t.watch(x)\n",
    "    y = x**2\n",
    "\n",
    "dy_dx = t.gradient(y, x)\n",
    "\n",
    "plt.plot(x, y, label=\"$x^2$\")\n",
    "plt.plot(x, dy_dx, label=r\"$\\frac{dx^2}{dx}$\")\n",
    "plt.legend();"
   ]
  },
  {
   "cell_type": "markdown",
   "metadata": {},
   "source": [
    "### Задание 3:\n",
    "\n",
    "Реализуйте расчёт градиента для функции \n",
    "\n",
    "$$\n",
    "f(w) = \\prod_{i,j} \\ln(\\ln(w_{ij} + 7) \n",
    "$$\n",
    "\n",
    "в точке `w = [[5,10], [1,2]]`"
   ]
  },
  {
   "cell_type": "code",
   "execution_count": 42,
   "metadata": {},
   "outputs": [
    {
     "data": {
      "text/plain": [
       "<tf.Tensor: shape=(2, 2), dtype=float32, numpy=\n",
       "array([[0.0201272 , 0.01089125],\n",
       "       [0.04485611, 0.03509369]], dtype=float32)>"
      ]
     },
     "execution_count": 42,
     "metadata": {},
     "output_type": "execute_result"
    }
   ],
   "source": [
    "# ваш код  ¯\\_(⊙︿⊙)_/¯\n",
    "def f(w):\n",
    "    return tf.reduce_prod(tf.math.log(tf.math.log(w + 7)))\n",
    "\n",
    "w = tf.constant([[5,10], [1,2]], dtype=tf.float32)\n",
    "\n",
    "with tf.GradientTape(persistent=True) as t:\n",
    "    t.watch(w)\n",
    "    f_w = f(w)\n",
    "\n",
    "df_dw = t.gradient(f_w, w)\n",
    "df_dw"
   ]
  },
  {
   "cell_type": "markdown",
   "metadata": {},
   "source": [
    "# 3. Переменные\n",
    "\n",
    "Следущий важный объект в tensorflow это **переменная.** Она представляет из себя некоторый буфер в памяти, который содержит текущие тензоры. \n",
    "\n",
    "* Переменную можно вставить в любое место графа \n",
    "* Переменные можно использовать, чтобы описать какую-то трансформацию\n",
    "* В процессе расчётов их можно изменять\n",
    "* Обычно их используют для описания параметров модели"
   ]
  },
  {
   "cell_type": "code",
   "execution_count": 43,
   "metadata": {},
   "outputs": [
    {
     "data": {
      "text/plain": [
       "<tf.Variable 'Variable:0' shape=() dtype=float32, numpy=0.5>"
      ]
     },
     "execution_count": 43,
     "metadata": {},
     "output_type": "execute_result"
    }
   ],
   "source": [
    "w = tf.Variable(initial_value=0.5)\n",
    "w"
   ]
  },
  {
   "cell_type": "code",
   "execution_count": 44,
   "metadata": {},
   "outputs": [
    {
     "data": {
      "text/plain": [
       "array([1., 2., 3.])"
      ]
     },
     "execution_count": 44,
     "metadata": {},
     "output_type": "execute_result"
    }
   ],
   "source": [
    "x = np.array([1,2,3], dtype=float)\n",
    "x"
   ]
  },
  {
   "cell_type": "code",
   "execution_count": 45,
   "metadata": {},
   "outputs": [
    {
     "data": {
      "text/plain": [
       "<tf.Tensor: shape=(3,), dtype=float32, numpy=array([0.5, 1. , 1.5], dtype=float32)>"
      ]
     },
     "execution_count": 45,
     "metadata": {},
     "output_type": "execute_result"
    }
   ],
   "source": [
    "x*w"
   ]
  },
  {
   "cell_type": "markdown",
   "metadata": {},
   "source": [
    "Более того, переменные хороши тем, что Tensorflow сразу же следит за ними при вычислении производных. Ему не надо указывать с помощью команды `watch`, за каким тензором нужно приглядывать. "
   ]
  },
  {
   "cell_type": "markdown",
   "metadata": {},
   "source": [
    "### Задание 4:\n",
    "\n",
    "Реализуйте расчёт градиента для функции \n",
    "\n",
    "$$\n",
    "f(w) = \\prod_{i,j} \\ln(\\ln(w_{ij} + 7) \n",
    "$$\n",
    "\n",
    "в точке `w = [[5,10], [1,2]]`. Отличие от предыдущей задачки такое: надо задать $w$ не как тензор, а как переменную. "
   ]
  },
  {
   "cell_type": "code",
   "execution_count": 46,
   "metadata": {},
   "outputs": [
    {
     "data": {
      "text/plain": [
       "<tf.Tensor: shape=(2, 2), dtype=float32, numpy=\n",
       "array([[0.0201272 , 0.01089125],\n",
       "       [0.04485611, 0.03509369]], dtype=float32)>"
      ]
     },
     "execution_count": 46,
     "metadata": {},
     "output_type": "execute_result"
    }
   ],
   "source": [
    "# ваш код  ¯\\_(⊙︿⊙)_/¯\n",
    "def f(w):\n",
    "    return tf.reduce_prod(tf.math.log(tf.math.log(w + 7)))\n",
    "\n",
    "w = tf.Variable(initial_value=[[5,10], [1,2]], dtype=tf.float32)\n",
    "\n",
    "with tf.GradientTape(persistent=True) as t:\n",
    "    f_w = f(w)\n",
    "\n",
    "df_dw = t.gradient(f_w, w)\n",
    "df_dw"
   ]
  },
  {
   "cell_type": "markdown",
   "metadata": {},
   "source": [
    "------------------------------------------"
   ]
  },
  {
   "cell_type": "markdown",
   "metadata": {},
   "source": [
    "# 4. Оптимизация\n",
    "\n",
    "Итак, tf умеет искать производные, осталось научиться применять его для оптимизации. \n",
    "\n",
    "Попробуем решить глупую задачку по конвертации градусов по цельсию в градусы по фаренгейту. По данным будем пытаться восстановить формулу: \n",
    "\n",
    "$$ f = c \\times 1.8 + 32 $$"
   ]
  },
  {
   "cell_type": "code",
   "execution_count": 47,
   "metadata": {},
   "outputs": [
    {
     "name": "stdout",
     "output_type": "stream",
     "text": [
      "-40.0 degrees Celsius = -40.0 degrees Fahrenheit\n",
      "-10.0 degrees Celsius = 14.0 degrees Fahrenheit\n",
      "0.0 degrees Celsius = 32.0 degrees Fahrenheit\n",
      "8.0 degrees Celsius = 46.0 degrees Fahrenheit\n",
      "15.0 degrees Celsius = 59.0 degrees Fahrenheit\n",
      "22.0 degrees Celsius = 72.0 degrees Fahrenheit\n",
      "38.0 degrees Celsius = 100.0 degrees Fahrenheit\n"
     ]
    }
   ],
   "source": [
    "celsius    = np.array([-40, -10,  0,  8, 15, 22,  38],  dtype='float32')\n",
    "fahrenheit = np.array([-40,  14, 32, 46, 59, 72, 100],  dtype='float32')\n",
    "\n",
    "for i,c in enumerate(celsius):\n",
    "    print(\"{} degrees Celsius = {} degrees Fahrenheit\".format(c, fahrenheit[i]))"
   ]
  },
  {
   "cell_type": "code",
   "execution_count": 48,
   "metadata": {},
   "outputs": [
    {
     "data": {
      "text/plain": [
       "(array([-1.3813756], dtype=float32), array([0.42732242], dtype=float32))"
      ]
     },
     "execution_count": 48,
     "metadata": {},
     "output_type": "execute_result"
    }
   ],
   "source": [
    "# параметры модели \n",
    "a = tf.Variable(tf.random.normal([1]), name='bias')\n",
    "b = tf.Variable(tf.random.normal([1]), name='k')\n",
    "\n",
    "a.numpy(), b.numpy()"
   ]
  },
  {
   "cell_type": "code",
   "execution_count": 49,
   "metadata": {},
   "outputs": [
    {
     "data": {
      "text/plain": [
       "(<tf.Variable 'bias:0' shape=(1,) dtype=float32, numpy=array([-1.3813756], dtype=float32)>,\n",
       " <tf.Variable 'k:0' shape=(1,) dtype=float32, numpy=array([0.42732242], dtype=float32)>)"
      ]
     },
     "execution_count": 49,
     "metadata": {},
     "output_type": "execute_result"
    }
   ],
   "source": [
    "a,  b"
   ]
  },
  {
   "cell_type": "code",
   "execution_count": 50,
   "metadata": {},
   "outputs": [],
   "source": [
    "# Наша модель\n",
    "def linear_regression(x):\n",
    "    return a + b*x\n",
    "\n",
    "# Ошибка для модели\n",
    "def mean_square(y_pred, y_true):\n",
    "    return tf.reduce_mean((y_pred-y_true)**2)"
   ]
  },
  {
   "cell_type": "code",
   "execution_count": 51,
   "metadata": {},
   "outputs": [
    {
     "data": {
      "text/plain": [
       "array([-18.474274 ,  -5.6546   ,  -1.3813756,   2.0372038,   5.0284605,\n",
       "         8.019718 ,  14.856877 ], dtype=float32)"
      ]
     },
     "execution_count": 51,
     "metadata": {},
     "output_type": "execute_result"
    }
   ],
   "source": [
    "linear_regression(celsius).numpy()"
   ]
  },
  {
   "cell_type": "code",
   "execution_count": 52,
   "metadata": {},
   "outputs": [
    {
     "data": {
      "text/plain": [
       "2593.2083"
      ]
     },
     "execution_count": 52,
     "metadata": {},
     "output_type": "execute_result"
    }
   ],
   "source": [
    "mean_square(linear_regression(celsius), fahrenheit).numpy()"
   ]
  },
  {
   "cell_type": "code",
   "execution_count": 53,
   "metadata": {},
   "outputs": [],
   "source": [
    "# оптимизатор \n",
    "optimizer = tf.optimizers.SGD(learning_rate=0.001)\n",
    "\n",
    "# процесс оптимизации\n",
    "def model_train(X, Y):\n",
    "\n",
    "    # находим loss и пробрасываем градиент\n",
    "    with tf.GradientTape() as g:\n",
    "        pred = linear_regression(X)\n",
    "        loss = mean_square(pred, Y)\n",
    "\n",
    "    # Вычисляем градиенты\n",
    "    gradients = g.gradient(loss, [a, b])\n",
    "    \n",
    "    # Обновляем веса a и b в ходе одной итерации спуска \n",
    "    optimizer.apply_gradients(zip(gradients, [a, b]))"
   ]
  },
  {
   "cell_type": "code",
   "execution_count": 54,
   "metadata": {},
   "outputs": [
    {
     "name": "stdout",
     "output_type": "stream",
     "text": [
      "step: 0, loss: 1083.802490, a: -1.301785, b: 2.275541\n",
      "step: 100, loss: 723.118835, a: 4.512389, b: 2.029525\n",
      "step: 200, loss: 492.335022, a: 9.311145, b: 1.989026\n",
      "step: 300, loss: 335.212463, a: 13.270688, b: 1.955611\n",
      "step: 400, loss: 228.239914, a: 16.537786, b: 1.928039\n",
      "step: 500, loss: 155.410751, a: 19.233532, b: 1.905288\n",
      "step: 600, loss: 105.827202, a: 21.457836, b: 1.886517\n",
      "step: 700, loss: 72.069557, a: 23.293156, b: 1.871028\n",
      "step: 800, loss: 49.086620, a: 24.807516, b: 1.858248\n",
      "step: 900, loss: 33.439384, a: 26.057039, b: 1.847703\n",
      "step: 1000, loss: 22.786285, a: 27.088057, b: 1.839002\n",
      "step: 1100, loss: 15.533463, a: 27.938765, b: 1.831822\n",
      "step: 1200, loss: 10.595653, a: 28.640696, b: 1.825899\n",
      "step: 1300, loss: 7.233815, a: 29.219881, b: 1.821011\n",
      "step: 1400, loss: 4.945065, a: 29.697767, b: 1.816978\n",
      "step: 1500, loss: 3.386837, a: 30.092079, b: 1.813650\n",
      "step: 1600, loss: 2.325917, a: 30.417448, b: 1.810904\n",
      "step: 1700, loss: 1.603635, a: 30.685911, b: 1.808638\n",
      "step: 1800, loss: 1.111921, a: 30.907415, b: 1.806769\n",
      "step: 1900, loss: 0.777140, a: 31.090185, b: 1.805227\n"
     ]
    }
   ],
   "source": [
    "# Обучение\n",
    "epochs = 2000 # число эпох \n",
    "\n",
    "for i in range(epochs):\n",
    "    \n",
    "    # Делаем щаг градиентного спуска \n",
    "    model_train(celsius, fahrenheit)\n",
    "    \n",
    "    # Каждую сотую итерацию следим за тем, что произошло\n",
    "    if i%100 == 0:\n",
    "        y_pred = linear_regression(celsius)\n",
    "        loss_val = mean_square(y_pred, fahrenheit)\n",
    "        print(\"step: %i, loss: %f, a: %f, b: %f\" % (i, loss_val, a.numpy(), b.numpy()))"
   ]
  },
  {
   "cell_type": "markdown",
   "metadata": {},
   "source": [
    "Можно сделать то же самое, но с визуализацией. "
   ]
  },
  {
   "cell_type": "code",
   "execution_count": 55,
   "metadata": {},
   "outputs": [
    {
     "data": {
      "image/png": "[encoded data removed]",
      "text/plain": [
       "<Figure size 432x288 with 1 Axes>"
      ]
     },
     "metadata": {
      "needs_background": "light"
     },
     "output_type": "display_data"
    }
   ],
   "source": [
    "from IPython.display import clear_output\n",
    "\n",
    "epochs = 2000 # число эпох \n",
    "\n",
    "ass = [a.numpy()[0]] # стартовые точки \n",
    "bss = [b.numpy()[0]] \n",
    "\n",
    "for i in range(epochs):\n",
    "    # Делаем щаг градиентного спуска \n",
    "    model_train(celsius, fahrenheit)\n",
    "    \n",
    "    if i%25 == 0:\n",
    "        # Пополняем запас точек \n",
    "        ass.append(a.numpy()[0])\n",
    "        bss.append(b.numpy()[0])\n",
    "\n",
    "        clear_output(True) # чтобы всё на одной картинке рисовалось, а не на милионе\n",
    "        plt.plot(ass, bss, marker='.')\n",
    "        plt.scatter(32, 1.8, c='red')\n",
    "        plt.show()"
   ]
  },
  {
   "cell_type": "markdown",
   "metadata": {},
   "source": [
    "### Задание 5:\n",
    "\n",
    "Реализуйте для функции \n",
    "\n",
    "$$\n",
    "f(w) = \\prod_{i,j} \\ln(\\ln(w_{ij} + 7) \n",
    "$$\n",
    "\n",
    "процедуру градиентного спуска. Каким получилось минимальное значение? "
   ]
  },
  {
   "cell_type": "code",
   "execution_count": 56,
   "metadata": {
    "scrolled": true
   },
   "outputs": [
    {
     "name": "stdout",
     "output_type": "stream",
     "text": [
      "step: 0, val: 0.545920\n",
      "step: 100, val: 0.507229\n",
      "step: 200, val: 0.466161\n",
      "step: 300, val: 0.421906\n",
      "step: 400, val: 0.373022\n"
     ]
    }
   ],
   "source": [
    "# ваш код  ¯\\_(⊙︿⊙)_/¯\n",
    "@tf.function\n",
    "def f(w):\n",
    "    return tf.reduce_prod(tf.math.log(tf.math.log(w + 7)))\n",
    "\n",
    "w = tf.Variable(initial_value=[[5,10], [1,2]], dtype=tf.float32)\n",
    "\n",
    "# оптимизатор \n",
    "optimizer = tf.optimizers.SGD(learning_rate=0.1)\n",
    "\n",
    "# процесс оптимизации\n",
    "def model_train():\n",
    "    with tf.GradientTape() as g:\n",
    "        loss = f(w)\n",
    "\n",
    "    gradients = g.gradient(loss, [w])\n",
    "    optimizer.apply_gradients(zip(gradients, [w]))\n",
    "\n",
    "epochs = 500 # число эпох \n",
    "\n",
    "for i in range(epochs):\n",
    "    \n",
    "    # Делаем щаг градиентного спуска \n",
    "    model_train()\n",
    "    \n",
    "    # Каждую сотую итерацию следим за тем, что произошло\n",
    "    if i%100 == 0:\n",
    "        loss_val = f(w)\n",
    "        print(\"step: %i, val: %f\" % (i, loss_val))"
   ]
  },
  {
   "cell_type": "code",
   "execution_count": 57,
   "metadata": {},
   "outputs": [
    {
     "data": {
      "text/plain": [
       "<tf.Variable 'Variable:0' shape=(2, 2) dtype=float32, numpy=\n",
       "array([[ 4.1303997 ,  9.550416  ],\n",
       "       [-1.7050806 ,  0.25506625]], dtype=float32)>"
      ]
     },
     "execution_count": 57,
     "metadata": {},
     "output_type": "execute_result"
    }
   ],
   "source": [
    "w"
   ]
  },
  {
   "cell_type": "markdown",
   "metadata": {},
   "source": [
    "------------------------------------------"
   ]
  },
  {
   "cell_type": "markdown",
   "metadata": {},
   "source": [
    "# 5. Моя первая нейросеть \n",
    "\n",
    "Для того, чтобы разобраться как обучать нейросити, нужно освоить три вещи: \n",
    "\n",
    "1. Как обрабатывать поток данных и пихать его в сетку\n",
    "2. Как сделать сетку\n",
    "3. Как написать цикл обучения"
   ]
  },
  {
   "cell_type": "markdown",
   "metadata": {},
   "source": [
    "Раньше все учили свою первую нейросеть на [наборе рукопистных цифр MNIST.](http://yann.lecun.com/exdb/mnist/) Теперь это не модно. Если где-то кто-то будет проводить у вас семинар с участием этого датасета, так и скажите ему: __это не модно!__  Хлопать дверью или нет --- на ваше усмотрение. \n",
    "\n",
    "На арене туториалов новый король: [Fashion MNIST.](https://www.tensorflow.org/tutorials/keras/classification) По ссылке лежит туториал с строительством нейросетки на этом наборе, но с участием Keras. Мы пока что обойдёмся без него.\n",
    "\n",
    "\n",
    "### 5.0 Данные"
   ]
  },
  {
   "cell_type": "code",
   "execution_count": 64,
   "metadata": {},
   "outputs": [],
   "source": [
    "fashion_mnist = tf.keras.datasets.fashion_mnist\n",
    "(X_train, y_train), (X_test, y_test) = fashion_mnist.load_data()"
   ]
  },
  {
   "cell_type": "code",
   "execution_count": 65,
   "metadata": {},
   "outputs": [
    {
     "data": {
      "text/plain": [
       "((60000, 28, 28), (10000, 28, 28))"
      ]
     },
     "execution_count": 65,
     "metadata": {},
     "output_type": "execute_result"
    }
   ],
   "source": [
    "X_train.shape, X_test.shape"
   ]
  },
  {
   "cell_type": "code",
   "execution_count": 66,
   "metadata": {},
   "outputs": [],
   "source": [
    "class_names = ['T-shirt/top', 'Trouser', 'Pullover', 'Dress', 'Coat',\n",
    "               'Sandal', 'Shirt', 'Sneaker', 'Bag', 'Ankle boot']"
   ]
  },
  {
   "cell_type": "markdown",
   "metadata": {},
   "source": [
    "Нарисуем несколько рандомных картинок из тренировочной выборки. "
   ]
  },
  {
   "cell_type": "code",
   "execution_count": 67,
   "metadata": {},
   "outputs": [
    {
     "data": {
      "image/png": "[encoded data removed]",
      "text/plain": [
       "<Figure size 1152x360 with 16 Axes>"
      ]
     },
     "metadata": {},
     "output_type": "display_data"
    }
   ],
   "source": [
    "cols = 8\n",
    "rows = 2\n",
    "fig = plt.figure(figsize=(2 * cols, 2.5 * rows))\n",
    "for i in range(cols):\n",
    "    for j in range(rows):\n",
    "        random_index = np.random.randint(0, len(y_train))\n",
    "        ax = fig.add_subplot(rows, cols, i * rows + j + 1)\n",
    "        ax.grid(False)\n",
    "        ax.set_xticks([])\n",
    "        ax.set_yticks([])\n",
    "        ax.imshow(X_train[random_index, :], cmap = 'gray')\n",
    "        ax.set_xlabel(class_names[y_train[random_index]])\n",
    "plt.show()"
   ]
  },
  {
   "cell_type": "markdown",
   "metadata": {},
   "source": [
    "Каждая картинка это матрица из чисел. Если число большое - пиксель яркий. Если маленькое - тёмный. Яркость измеряется по шкале от $0$ до $255$."
   ]
  },
  {
   "cell_type": "code",
   "execution_count": 68,
   "metadata": {
    "scrolled": true
   },
   "outputs": [
    {
     "data": {
      "text/plain": [
       "array([[[0, 0, 0, ..., 0, 0, 0],\n",
       "        [0, 0, 0, ..., 0, 0, 0],\n",
       "        [0, 0, 0, ..., 0, 0, 0],\n",
       "        ...,\n",
       "        [0, 0, 0, ..., 0, 0, 0],\n",
       "        [0, 0, 0, ..., 0, 0, 0],\n",
       "        [0, 0, 0, ..., 0, 0, 0]],\n",
       "\n",
       "       [[0, 0, 0, ..., 0, 0, 0],\n",
       "        [0, 0, 0, ..., 0, 0, 0],\n",
       "        [0, 0, 0, ..., 0, 0, 0],\n",
       "        ...,\n",
       "        [0, 0, 0, ..., 0, 0, 0],\n",
       "        [0, 0, 0, ..., 0, 0, 0],\n",
       "        [0, 0, 0, ..., 0, 0, 0]],\n",
       "\n",
       "       [[0, 0, 0, ..., 0, 0, 0],\n",
       "        [0, 0, 0, ..., 0, 0, 0],\n",
       "        [0, 0, 0, ..., 0, 0, 0],\n",
       "        ...,\n",
       "        [0, 0, 0, ..., 0, 0, 0],\n",
       "        [0, 0, 0, ..., 0, 0, 0],\n",
       "        [0, 0, 0, ..., 0, 0, 0]],\n",
       "\n",
       "       ...,\n",
       "\n",
       "       [[0, 0, 0, ..., 0, 0, 0],\n",
       "        [0, 0, 0, ..., 0, 0, 0],\n",
       "        [0, 0, 0, ..., 0, 0, 0],\n",
       "        ...,\n",
       "        [0, 0, 0, ..., 0, 0, 0],\n",
       "        [0, 0, 0, ..., 0, 0, 0],\n",
       "        [0, 0, 0, ..., 0, 0, 0]],\n",
       "\n",
       "       [[0, 0, 0, ..., 0, 0, 0],\n",
       "        [0, 0, 0, ..., 0, 0, 0],\n",
       "        [0, 0, 0, ..., 0, 0, 0],\n",
       "        ...,\n",
       "        [0, 0, 0, ..., 0, 0, 0],\n",
       "        [0, 0, 0, ..., 0, 0, 0],\n",
       "        [0, 0, 0, ..., 0, 0, 0]],\n",
       "\n",
       "       [[0, 0, 0, ..., 0, 0, 0],\n",
       "        [0, 0, 0, ..., 0, 0, 0],\n",
       "        [0, 0, 0, ..., 0, 0, 0],\n",
       "        ...,\n",
       "        [0, 0, 0, ..., 0, 0, 0],\n",
       "        [0, 0, 0, ..., 0, 0, 0],\n",
       "        [0, 0, 0, ..., 0, 0, 0]]], dtype=uint8)"
      ]
     },
     "execution_count": 68,
     "metadata": {},
     "output_type": "execute_result"
    }
   ],
   "source": [
    "X_train"
   ]
  },
  {
   "cell_type": "markdown",
   "metadata": {},
   "source": [
    "Картинка - матрица. "
   ]
  },
  {
   "cell_type": "code",
   "execution_count": 69,
   "metadata": {},
   "outputs": [
    {
     "data": {
      "text/plain": [
       "(28, 28)"
      ]
     },
     "execution_count": 69,
     "metadata": {},
     "output_type": "execute_result"
    }
   ],
   "source": [
    "X_train[0].shape"
   ]
  },
  {
   "cell_type": "markdown",
   "metadata": {},
   "source": [
    "Давайте отнормируем выборку. "
   ]
  },
  {
   "cell_type": "code",
   "execution_count": 70,
   "metadata": {},
   "outputs": [],
   "source": [
    "X_train = X_train/127.5 - 1\n",
    "X_test = X_test/127.5 - 1"
   ]
  },
  {
   "cell_type": "markdown",
   "metadata": {},
   "source": [
    "Будем прогнозировать тип картинки по её пикселям. Давайте растянем её в вектор из $28 \\times 28$ фичей."
   ]
  },
  {
   "cell_type": "code",
   "execution_count": 71,
   "metadata": {},
   "outputs": [
    {
     "data": {
      "text/plain": [
       "(60000, 784)"
      ]
     },
     "execution_count": 71,
     "metadata": {},
     "output_type": "execute_result"
    }
   ],
   "source": [
    "X_train = X_train.reshape(X_train.shape[0], 28**2)\n",
    "X_test = X_test.reshape(X_test.shape[0], 28**2)\n",
    "X_train.shape"
   ]
  },
  {
   "cell_type": "markdown",
   "metadata": {},
   "source": [
    "Поставим для данных тип, чтобы ничего не поломалось."
   ]
  },
  {
   "cell_type": "code",
   "execution_count": 72,
   "metadata": {},
   "outputs": [],
   "source": [
    "X_train = X_train.astype(np.float32)\n",
    "X_test = X_test.astype(np.float32)"
   ]
  },
  {
   "cell_type": "markdown",
   "metadata": {},
   "source": [
    "## 5.1 Обработка потока данных\n",
    "\n",
    "Чтобы в tensorflow эффективно итерироваться по данным и применять к ним различные преобразования, о которых вы узнает позже - нужно [создать из них `Dataset`](https://www.tensorflow.org/guide/data?hl=ur)"
   ]
  },
  {
   "cell_type": "code",
   "execution_count": 73,
   "metadata": {},
   "outputs": [
    {
     "data": {
      "text/plain": [
       "<TensorSliceDataset element_spec=TensorSpec(shape=(), dtype=tf.int32, name=None)>"
      ]
     },
     "execution_count": 73,
     "metadata": {},
     "output_type": "execute_result"
    }
   ],
   "source": [
    "x = [8, 3, 0, 8, 2, 1]\n",
    "\n",
    "dataset = tf.data.Dataset.from_tensor_slices(x)\n",
    "dataset"
   ]
  },
  {
   "cell_type": "markdown",
   "metadata": {},
   "source": [
    "`Dataset` это итератор. Когда мы будем работать с большими данными, мы будем писать на его основе итераторы, которые будут считывать данные прямо с компьютера и после использования выкидывать их из оперативной памяти."
   ]
  },
  {
   "cell_type": "code",
   "execution_count": 74,
   "metadata": {},
   "outputs": [
    {
     "name": "stdout",
     "output_type": "stream",
     "text": [
      "0\n",
      "1\n",
      "2\n",
      "3\n",
      "4\n"
     ]
    }
   ],
   "source": [
    "it = range(5)\n",
    "for i in it:\n",
    "    print(i)"
   ]
  },
  {
   "cell_type": "code",
   "execution_count": 75,
   "metadata": {},
   "outputs": [
    {
     "name": "stdout",
     "output_type": "stream",
     "text": [
      "8\n",
      "3\n",
      "0\n",
      "8\n",
      "2\n",
      "1\n"
     ]
    }
   ],
   "source": [
    "for elem in dataset:\n",
    "    print(elem.numpy())"
   ]
  },
  {
   "cell_type": "markdown",
   "metadata": {},
   "source": [
    "У датасетов есть много интересных методов. Например, в них можно перемешивать данные и разбивать их на батчи. "
   ]
  },
  {
   "cell_type": "code",
   "execution_count": 76,
   "metadata": {},
   "outputs": [],
   "source": [
    "x = [8, 3, 0, 8, 2, 1]\n",
    "y = [1, 0, 1, 1, 0, 1]\n",
    "\n",
    "# создали объект с данными для обучения \n",
    "dataset = tf.data.Dataset.from_tensor_slices((x, y))\n",
    "\n",
    "# перемешали данные с окном в 10 и сделали кучу батчей размера 2 \n",
    "dataset = dataset.shuffle(10).batch(2)"
   ]
  },
  {
   "cell_type": "code",
   "execution_count": 77,
   "metadata": {
    "scrolled": true
   },
   "outputs": [
    {
     "name": "stdout",
     "output_type": "stream",
     "text": [
      "[0 8] [1 1]\n",
      "[3 1] [0 1]\n",
      "[2 8] [0 1]\n"
     ]
    }
   ],
   "source": [
    "for item,jtem in dataset:\n",
    "    print(item.numpy(),jtem.numpy())"
   ]
  },
  {
   "cell_type": "markdown",
   "metadata": {},
   "source": [
    "Для первого раза этих двух преобразований нам будет достаточно.\n",
    "\n",
    "### Задание 6:\n",
    "\n",
    "Напишите итератор для тренировочной и тестовой выборок. Попробуйте проитерироваться по нескольким его первым объектам с помощью цикла. "
   ]
  },
  {
   "cell_type": "code",
   "execution_count": 78,
   "metadata": {},
   "outputs": [],
   "source": [
    "# ваш код  ¯\\_(⊙︿⊙)_/¯\n",
    "ds_tr = tf.data.Dataset.from_tensor_slices((X_train, y_train))\n",
    "ds_ts = tf.data.Dataset.from_tensor_slices((X_test, y_test))\n",
    "\n",
    "train_ds = ds_tr.shuffle(10000).batch(256)\n",
    "test_ds = ds_ts.batch(256)"
   ]
  },
  {
   "cell_type": "code",
   "execution_count": 81,
   "metadata": {},
   "outputs": [
    {
     "name": "stdout",
     "output_type": "stream",
     "text": [
      "(256, 784) (256,)\n",
      "(256, 784) (256,)\n",
      "(256, 784) (256,)\n",
      "(256, 784) (256,)\n",
      "(256, 784) (256,)\n",
      "(256, 784) (256,)\n",
      "(256, 784) (256,)\n",
      "(256, 784) (256,)\n",
      "(256, 784) (256,)\n",
      "(256, 784) (256,)\n",
      "(256, 784) (256,)\n",
      "(256, 784) (256,)\n",
      "(256, 784) (256,)\n",
      "(256, 784) (256,)\n",
      "(256, 784) (256,)\n",
      "(256, 784) (256,)\n",
      "(256, 784) (256,)\n",
      "(256, 784) (256,)\n",
      "(256, 784) (256,)\n",
      "(256, 784) (256,)\n",
      "(256, 784) (256,)\n",
      "(256, 784) (256,)\n",
      "(256, 784) (256,)\n",
      "(256, 784) (256,)\n",
      "(256, 784) (256,)\n",
      "(256, 784) (256,)\n",
      "(256, 784) (256,)\n",
      "(256, 784) (256,)\n",
      "(256, 784) (256,)\n",
      "(256, 784) (256,)\n",
      "(256, 784) (256,)\n",
      "(256, 784) (256,)\n",
      "(256, 784) (256,)\n",
      "(256, 784) (256,)\n",
      "(256, 784) (256,)\n",
      "(256, 784) (256,)\n",
      "(256, 784) (256,)\n",
      "(256, 784) (256,)\n",
      "(256, 784) (256,)\n",
      "(16, 784) (16,)\n"
     ]
    }
   ],
   "source": [
    "for x_c, y_c in test_ds:\n",
    "    print(x_c.shape, y_c.shape)"
   ]
  },
  {
   "cell_type": "markdown",
   "metadata": {},
   "source": [
    "## 5.2 Нейронная сеть\n",
    "\n",
    "Собирать нейронную сеть в tensorflow можно разными способами. Давайте посмотрим на три разных.\n",
    "\n",
    "__Способ 1:__ для того, чтобы в hight-level tensorflow создавать нейросети, обычно используют класс `Model`. Например, это можно сделать следующим образом."
   ]
  },
  {
   "cell_type": "code",
   "execution_count": 82,
   "metadata": {},
   "outputs": [
    {
     "data": {
      "text/plain": [
       "<__main__.MyModel at 0x245e1735db0>"
      ]
     },
     "execution_count": 82,
     "metadata": {},
     "output_type": "execute_result"
    }
   ],
   "source": [
    "from tensorflow.keras import Model, layers\n",
    "\n",
    "# Объявляем как должна будет выглядеть модель\n",
    "class MyModel(Model):\n",
    "    def __init__(self):\n",
    "        super(MyModel, self).__init__()\n",
    "        self.d1 = layers.Dense(64, activation='relu')\n",
    "        self.d2 = layers.Dense(32, activation='relu')\n",
    "        self.d3 = layers.Dense(10, activation='softmax')\n",
    "\n",
    "    def call(self, x):\n",
    "        x = self.d1(x)\n",
    "        x = self.d2(x)\n",
    "        return self.d3(x)\n",
    "\n",
    "# создаём один экземпляр модели\n",
    "model = MyModel()\n",
    "model"
   ]
  },
  {
   "cell_type": "code",
   "execution_count": 83,
   "metadata": {},
   "outputs": [
    {
     "data": {
      "text/plain": [
       "<tf.Tensor: shape=(3, 10), dtype=float32, numpy=\n",
       "array([[0.03367734, 0.07182798, 0.09104855, 0.09707695, 0.09686592,\n",
       "        0.06826865, 0.35441065, 0.03643569, 0.04215566, 0.10823263],\n",
       "       [0.02975878, 0.07203521, 0.07868998, 0.05333285, 0.2106053 ,\n",
       "        0.07100695, 0.28139952, 0.0279547 , 0.11714255, 0.05807417],\n",
       "       [0.05969226, 0.09515817, 0.0805354 , 0.11560807, 0.1513449 ,\n",
       "        0.10984515, 0.17439759, 0.06596316, 0.048804  , 0.09865125]],\n",
       "      dtype=float32)>"
      ]
     },
     "execution_count": 83,
     "metadata": {},
     "output_type": "execute_result"
    }
   ],
   "source": [
    "model(X_train[:3]) # получили предсказания модели"
   ]
  },
  {
   "cell_type": "markdown",
   "metadata": {},
   "source": [
    "Как мы видим на данном примере, у данного класса должно быть метод `call`, который определяет прямой проход нейросети. Также из класса выше видно, что модуль `keras.layers` содержит в себе реализацию большинства слоев.\n",
    "\n",
    "Если вы не очень поняли, что произошло, не пугайтесь. На следующем семинаре мы более подробно поговорим про объектно-ориентированное программирование и научимся писать подобные модели. "
   ]
  },
  {
   "cell_type": "markdown",
   "metadata": {},
   "source": [
    "__Способ 2:__ Можно собрать модель с помощью класса `Sequential`. В его рамках сбор модели будет выглядить как строительство башни из конструктора LEGO. Модель описывается последовательно. Мы как бы создаём коробочку `model` и постепенно добавляем туда детальки нашей сетки. "
   ]
  },
  {
   "cell_type": "code",
   "execution_count": 84,
   "metadata": {},
   "outputs": [],
   "source": [
    "from tensorflow.keras import Sequential, layers\n",
    "\n",
    "model = Sequential()                             # создали контейнер для модели\n",
    "model.add(layers.Dense(64))                      # слой из 64 нейронов\n",
    "model.add(layers.Activation('relu'))             # функция активации\n",
    "model.add(layers.Dropout(0.5))                   # дропаут с вероятностью 0.5 \n",
    "model.add(layers.Dense(10))                      # выход из сетки\n",
    "model.add(layers.Activation('softmax'))"
   ]
  },
  {
   "cell_type": "code",
   "execution_count": 85,
   "metadata": {},
   "outputs": [
    {
     "data": {
      "text/plain": [
       "<tf.Tensor: shape=(3, 10), dtype=float32, numpy=\n",
       "array([[0.06710178, 0.05850609, 0.03088893, 0.02262748, 0.40024436,\n",
       "        0.13904448, 0.05648514, 0.16448136, 0.01881317, 0.04180718],\n",
       "       [0.05290145, 0.08403568, 0.02771225, 0.08186394, 0.3124479 ,\n",
       "        0.06761827, 0.10819066, 0.06829237, 0.06657333, 0.13036409],\n",
       "       [0.02659197, 0.02219312, 0.0140322 , 0.09533639, 0.25667003,\n",
       "        0.09218556, 0.10017461, 0.13702099, 0.03134096, 0.22445416]],\n",
       "      dtype=float32)>"
      ]
     },
     "execution_count": 85,
     "metadata": {},
     "output_type": "execute_result"
    }
   ],
   "source": [
    "model(X_train[:3]) # получили предсказания модели"
   ]
  },
  {
   "cell_type": "markdown",
   "metadata": {},
   "source": [
    "__Способ 3:__ Описать модель функционально, в явном виде прописав какие аргументы идут на вход какому слою. "
   ]
  },
  {
   "cell_type": "code",
   "execution_count": 86,
   "metadata": {},
   "outputs": [],
   "source": [
    "a = layers.Input(shape=(X_train.shape[1],))  # Первая заглушка для входа \n",
    "b = layers.Dense(64)(a)                      # Применяем ко входу полносвязный слой как функцию\n",
    "b = layers.Activation('relu')(b)             # Теперь к тому, что получилось функцию активации\n",
    "b = layers.Dropout(0.5)(b)                   # Ну и так далее... \n",
    "b = layers.Dense(10, activation='relu')(b)   # Функции активации можно звать по-разному\n",
    "\n",
    "model = Model(inputs=a, outputs=b)    # указываем что вход, а что выход, склеивая модель"
   ]
  },
  {
   "cell_type": "code",
   "execution_count": 87,
   "metadata": {},
   "outputs": [
    {
     "data": {
      "text/plain": [
       "<tf.Tensor: shape=(3, 10), dtype=float32, numpy=\n",
       "array([[0.46562976, 0.7915678 , 1.0172751 , 1.8099083 , 0.        ,\n",
       "        0.        , 0.        , 0.        , 0.        , 0.        ],\n",
       "       [1.0763706 , 0.        , 0.        , 1.1482259 , 0.        ,\n",
       "        0.        , 0.        , 0.        , 0.        , 0.        ],\n",
       "       [0.        , 1.0155681 , 1.3175002 , 1.0639719 , 0.        ,\n",
       "        0.12213417, 0.05639993, 0.        , 0.        , 0.        ]],\n",
       "      dtype=float32)>"
      ]
     },
     "execution_count": 87,
     "metadata": {},
     "output_type": "execute_result"
    }
   ],
   "source": [
    "model(X_train[:3]) # получили предсказания модели"
   ]
  },
  {
   "cell_type": "markdown",
   "metadata": {},
   "source": [
    "### Задание 7:\n",
    "\n",
    "Способом, который вам больше всего понравился, напишите нейросеть из трёх полносвязных слоёв размеров $128, 64, 32$ с сигмоидой в качестве функции активации. После каждого слоя сделайте дропаут с вероятностью $0.2$. Выходной слой должен состоять из $10$ нейронов с `Softmax` в качестве функции активации, так как мы решаем задачу классификации $10$ классов. "
   ]
  },
  {
   "cell_type": "code",
   "execution_count": 92,
   "metadata": {},
   "outputs": [
    {
     "data": {
      "text/plain": [
       "<__main__.SuperPuperModel at 0x245e7ffdfc0>"
      ]
     },
     "execution_count": 92,
     "metadata": {},
     "output_type": "execute_result"
    }
   ],
   "source": [
    "# ваш код  ¯\\_(⊙︿⊙)_/¯\n",
    "class SuperPuperModel(Model):\n",
    "    def __init__(self):\n",
    "        super().__init__()\n",
    "        self.d1 = layers.Dense(128, activation='sigmoid', name='Jura')\n",
    "        self.d2 = layers.Dense(64, activation='sigmoid')\n",
    "        self.d3 = layers.Dense(32, activation='sigmoid')\n",
    "        self.out = layers.Dense(10, activation='softmax')\n",
    "        self.dropout = layers.Dropout(0.2)\n",
    "    \n",
    "    def call(self, x):\n",
    "        z = self.d1(x)\n",
    "        z = self.dropout(z)\n",
    "        z = self.d2(z)\n",
    "        z = self.dropout(z)\n",
    "        z = tf.concat([x,z], axis=1)\n",
    "        z = self.d3(z)\n",
    "        z = self.dropout(z)\n",
    "        z = self.out(z)\n",
    "        \n",
    "        return z\n",
    "\n",
    "# создаём один экземпляр модели\n",
    "model = SuperPuperModel()\n",
    "model"
   ]
  },
  {
   "cell_type": "code",
   "execution_count": 93,
   "metadata": {},
   "outputs": [
    {
     "data": {
      "text/plain": [
       "<tf.Tensor: shape=(3, 10), dtype=float32, numpy=\n",
       "array([[0.1110491 , 0.10218819, 0.19046183, 0.05340027, 0.0500373 ,\n",
       "        0.11549047, 0.08752629, 0.10005013, 0.05300353, 0.1367929 ],\n",
       "       [0.08406209, 0.079459  , 0.18742576, 0.10085335, 0.05547392,\n",
       "        0.07069927, 0.10398582, 0.07252267, 0.0550114 , 0.19050664],\n",
       "       [0.08559509, 0.09640107, 0.19426435, 0.07587939, 0.05176687,\n",
       "        0.13474399, 0.08552569, 0.10410523, 0.05251728, 0.11920104]],\n",
       "      dtype=float32)>"
      ]
     },
     "execution_count": 93,
     "metadata": {},
     "output_type": "execute_result"
    }
   ],
   "source": [
    "model(X_train[:3])"
   ]
  },
  {
   "cell_type": "markdown",
   "metadata": {},
   "source": [
    "## 5.3 функция потерь и цикл для обучения\n",
    "\n",
    "Посмотрим сколько параметров нам предстоит оценить. "
   ]
  },
  {
   "cell_type": "code",
   "execution_count": 94,
   "metadata": {},
   "outputs": [
    {
     "name": "stdout",
     "output_type": "stream",
     "text": [
      "Model: \"super_puper_model_1\"\n",
      "_________________________________________________________________\n",
      " Layer (type)                Output Shape              Param #   \n",
      "=================================================================\n",
      " Jura (Dense)                multiple                  100480    \n",
      "                                                                 \n",
      " dense_11 (Dense)            multiple                  8256      \n",
      "                                                                 \n",
      " dense_12 (Dense)            multiple                  27168     \n",
      "                                                                 \n",
      " dense_13 (Dense)            multiple                  330       \n",
      "                                                                 \n",
      " dropout_3 (Dropout)         multiple                  0         \n",
      "                                                                 \n",
      "=================================================================\n",
      "Total params: 136,234\n",
      "Trainable params: 136,234\n",
      "Non-trainable params: 0\n",
      "_________________________________________________________________\n"
     ]
    }
   ],
   "source": [
    "model.summary()"
   ]
  },
  {
   "cell_type": "code",
   "execution_count": 96,
   "metadata": {},
   "outputs": [
    {
     "data": {
      "text/plain": [
       "8"
      ]
     },
     "execution_count": 96,
     "metadata": {},
     "output_type": "execute_result"
    }
   ],
   "source": [
    "# Список из весов модели (хранятся как матрицы)\n",
    "len(model.trainable_variables)"
   ]
  },
  {
   "cell_type": "markdown",
   "metadata": {},
   "source": [
    "Подгрузим какой-нибудь оптимизатор, который будет делать для нас градиентный спуск. "
   ]
  },
  {
   "cell_type": "code",
   "execution_count": 97,
   "metadata": {},
   "outputs": [],
   "source": [
    "learning_rate = 1e-4\n",
    "optimizer = tf.optimizers.Adam(learning_rate)"
   ]
  },
  {
   "cell_type": "markdown",
   "metadata": {},
   "source": [
    "Подгрузим из пакета функцию потерь. Её можно было бы написать самостоятельно по аналогии с тем, как мы это сделали для градусов по фарингейту."
   ]
  },
  {
   "cell_type": "code",
   "execution_count": 98,
   "metadata": {},
   "outputs": [],
   "source": [
    "loss_function = tf.keras.losses.SparseCategoricalCrossentropy()"
   ]
  },
  {
   "cell_type": "markdown",
   "metadata": {},
   "source": [
    "Select metrics to measure the loss and the accuracy of the model. These metrics accumulate the values over epochs and then print the overall result.\n"
   ]
  },
  {
   "cell_type": "code",
   "execution_count": 99,
   "metadata": {},
   "outputs": [],
   "source": [
    "train_loss = tf.keras.metrics.Mean(name='train_loss')\n",
    "test_loss = tf.keras.metrics.Mean(name='test_loss')"
   ]
  },
  {
   "cell_type": "markdown",
   "metadata": {},
   "source": [
    "### Задание 8: \n",
    "\n",
    "Напишите функцию, которая делает один шаг обучения модели. "
   ]
  },
  {
   "cell_type": "code",
   "execution_count": 106,
   "metadata": {},
   "outputs": [],
   "source": [
    "@tf.function\n",
    "def train_step(images, labels):\n",
    "    \n",
    "    # находим loss и пробрасываем градиент\n",
    "    with tf.GradientTape() as t:\n",
    "        \n",
    "        # ваш код  ¯\\_(⊙︿⊙)_/¯\n",
    "        y_hat = model(images)\n",
    "        loss = loss_function(labels, y_hat)\n",
    "        \n",
    "     \n",
    "    # Вычисляем градиенты и обновляем веса\n",
    "    grad = t.gradient(loss, model.trainable_variables)\n",
    "    # Тут тоже ваш код  ¯\\_(⊙︿⊙)_/¯\n",
    "    optimizer.apply_gradients(zip(grad, model.trainable_variables))\n",
    "    # запоминаем получившееся значение loss\n",
    "    train_loss(loss)"
   ]
  },
  {
   "cell_type": "markdown",
   "metadata": {},
   "source": [
    "Напишем функцию, которая будет делать один шаг тестирования модели. "
   ]
  },
  {
   "cell_type": "code",
   "execution_count": 107,
   "metadata": {},
   "outputs": [],
   "source": [
    "@tf.function\n",
    "def test_step(images, labels):\n",
    "    predictions = model(images, training=False)\n",
    "    loss = loss_function(labels, predictions)\n",
    "    test_loss(loss)"
   ]
  },
  {
   "cell_type": "code",
   "execution_count": 110,
   "metadata": {
    "scrolled": false
   },
   "outputs": [],
   "source": [
    "# Работает ли?\n",
    "train_step(X_train, y_train)"
   ]
  },
  {
   "cell_type": "code",
   "execution_count": 111,
   "metadata": {},
   "outputs": [
    {
     "data": {
      "text/plain": [
       "<tf.Tensor: shape=(), dtype=float32, numpy=2.3652334>"
      ]
     },
     "execution_count": 111,
     "metadata": {},
     "output_type": "execute_result"
    }
   ],
   "source": [
    "train_loss.result()"
   ]
  },
  {
   "cell_type": "markdown",
   "metadata": {},
   "source": [
    "Запускаем обучение."
   ]
  },
  {
   "cell_type": "code",
   "execution_count": 113,
   "metadata": {},
   "outputs": [
    {
     "name": "stdout",
     "output_type": "stream",
     "text": [
      "Epoch 1, Loss: 1.7149208784103394, Test Loss: 1.391190528869629, \n",
      "Epoch 2, Loss: 1.2415701150894165, Test Loss: 1.137999176979065, \n",
      "Epoch 3, Loss: 1.0489205121994019, Test Loss: 0.9902216196060181, \n",
      "Epoch 4, Loss: 0.9256545901298523, Test Loss: 0.8871461153030396, \n",
      "Epoch 5, Loss: 0.8360371589660645, Test Loss: 0.8103511929512024, \n"
     ]
    }
   ],
   "source": [
    "EPOCHS = 5\n",
    "\n",
    "for epoch in range(EPOCHS):\n",
    "    # Сброс метрик перед стартом новой эпохи\n",
    "    train_loss.reset_states()\n",
    "    test_loss.reset_states()\n",
    "\n",
    "    for images, labels in train_ds:\n",
    "        train_step(images, labels)\n",
    "\n",
    "    for test_images, test_labels in test_ds:\n",
    "        test_step(test_images, test_labels)\n",
    "\n",
    "    print(\n",
    "    f'Epoch {epoch + 1}, '\n",
    "    f'Loss: {train_loss.result()}, '\n",
    "    f'Test Loss: {test_loss.result()}, '\n",
    "    )"
   ]
  },
  {
   "cell_type": "markdown",
   "metadata": {},
   "source": [
    "### Задание 9: \n",
    "\n",
    "С помощью `tf.keras.metrics.SparseCategoricalAccuracy(name='test_accuracy')` добавьте в обучение отслеживание точности модели на тестовой и тренировочной выборках.  "
   ]
  },
  {
   "cell_type": "markdown",
   "metadata": {},
   "source": [
    "## 5.4 метод .fit\n",
    "\n",
    "Можно обучать модели намного проще. Это позволяет сделать метод  `fit` позволяет сделать это. Он принимает на вход обучающую выборку `X_train, y_train`. Параметр  `batch_size` это  размер батча. Этот параметр ограничивает количество примеров, которое за раз подаётся в нашу нейронную сеть. Количиство эпох для обучения, `epochs` - это число проходов модели по обучающей выборке. \n",
    "\n",
    "Обычно нейросетки обучаются довольно долго. В связи с этим обучать их на различных фолдах и оценивать качество работы модели на кросс-валидации не очень быстрое занятие, которое себе может позволить далеко не каждый. Для проверки качества обычно внутри обучения с помощью параметра `validation_split` часть выборки оставляют под валидацию, которая осуществляется после каждой эпохи. Как только качество на валидации начнёт падать, это будет означать, что модель переобучилаcь. \n",
    "\n",
    "Всё, что будет нам возвращать метод `.fit`, мы запишем в переменную `hist`. После обученя модели там окажется вся история ошибок на каждом шаге обучения. Отключить сообщения о том, на каком этапе обучения в данный момент находится модель, можно с параметром `verbose = 0`. Переменную $y$ для успешного обучения сетки нужно будет перевести в матрицу из дамми-переменных с помощью команды `to_categorical`. "
   ]
  },
  {
   "cell_type": "code",
   "execution_count": 114,
   "metadata": {},
   "outputs": [],
   "source": [
    "from tensorflow.keras import Sequential, layers\n",
    "\n",
    "model = Sequential()                             # создали контейнер для модели\n",
    "model.add(layers.Dense(64))                      # слой из 64 нейронов\n",
    "model.add(layers.Activation('relu'))             # функция активации\n",
    "model.add(layers.Dropout(0.5))                   # дропаут с вероятностью 0.5 \n",
    "model.add(layers.Dense(10))                      # выход из сетки\n",
    "model.add(layers.Activation('softmax'))\n",
    "\n",
    "learning_rate = 1e-4\n",
    "optimizer = tf.optimizers.Adam(learning_rate)\n",
    "\n",
    "loss_function = tf.keras.losses.SparseCategoricalCrossentropy()\n",
    "\n",
    "model.compile(loss = loss_function, \n",
    "              metrics=[\"accuracy\"], \n",
    "              optimizer=optimizer)"
   ]
  },
  {
   "cell_type": "markdown",
   "metadata": {},
   "source": [
    "Обучаем модель через `.fit`."
   ]
  },
  {
   "cell_type": "code",
   "execution_count": 115,
   "metadata": {},
   "outputs": [
    {
     "name": "stdout",
     "output_type": "stream",
     "text": [
      "Epoch 1/10\n",
      "1500/1500 [==============================] - 8s 5ms/step - loss: 1.0582 - accuracy: 0.6336 - val_loss: 0.5865 - val_accuracy: 0.7965\n",
      "Epoch 2/10\n",
      "1500/1500 [==============================] - 6s 4ms/step - loss: 0.7013 - accuracy: 0.7589 - val_loss: 0.5019 - val_accuracy: 0.8214\n",
      "Epoch 3/10\n",
      "1500/1500 [==============================] - 7s 5ms/step - loss: 0.6122 - accuracy: 0.7858 - val_loss: 0.4595 - val_accuracy: 0.8332\n",
      "Epoch 4/10\n",
      "1500/1500 [==============================] - 7s 5ms/step - loss: 0.5715 - accuracy: 0.8009 - val_loss: 0.4450 - val_accuracy: 0.8361\n",
      "Epoch 5/10\n",
      "1500/1500 [==============================] - 7s 5ms/step - loss: 0.5404 - accuracy: 0.8125 - val_loss: 0.4282 - val_accuracy: 0.8416\n",
      "Epoch 6/10\n",
      "1500/1500 [==============================] - 6s 4ms/step - loss: 0.5193 - accuracy: 0.8189 - val_loss: 0.4161 - val_accuracy: 0.8481\n",
      "Epoch 7/10\n",
      "1500/1500 [==============================] - 7s 5ms/step - loss: 0.5058 - accuracy: 0.8227 - val_loss: 0.4087 - val_accuracy: 0.8511\n",
      "Epoch 8/10\n",
      "1500/1500 [==============================] - 7s 5ms/step - loss: 0.4941 - accuracy: 0.8280 - val_loss: 0.4020 - val_accuracy: 0.8549\n",
      "Epoch 9/10\n",
      "1500/1500 [==============================] - 7s 5ms/step - loss: 0.4874 - accuracy: 0.8297 - val_loss: 0.3967 - val_accuracy: 0.8559\n",
      "Epoch 10/10\n",
      "1500/1500 [==============================] - 7s 5ms/step - loss: 0.4782 - accuracy: 0.8335 - val_loss: 0.3911 - val_accuracy: 0.8572\n"
     ]
    }
   ],
   "source": [
    "hist = model.fit(X_train, \n",
    "                 y_train,\n",
    "                 validation_split=0.2,\n",
    "                 epochs=10, verbose=1)"
   ]
  },
  {
   "cell_type": "markdown",
   "metadata": {},
   "source": [
    "Возвращает этот метод history — это история ошибок на каждом шаге обучения. Посмотрим на динамику ошибок нашей модели во времени. "
   ]
  },
  {
   "cell_type": "code",
   "execution_count": 116,
   "metadata": {},
   "outputs": [
    {
     "data": {
      "text/plain": [
       "<matplotlib.legend.Legend at 0x245e1591c60>"
      ]
     },
     "execution_count": 116,
     "metadata": {},
     "output_type": "execute_result"
    },
    {
     "data": {
      "image/png": "[encoded data removed]",
      "text/plain": [
       "<Figure size 432x288 with 1 Axes>"
      ]
     },
     "metadata": {
      "needs_background": "light"
     },
     "output_type": "display_data"
    }
   ],
   "source": [
    "start = 1\n",
    "plt.plot(hist.history['loss'][start:])\n",
    "plt.plot(hist.history['val_loss'][start:])\n",
    "plt.legend(['Train loss', 'Validation loss'])"
   ]
  },
  {
   "cell_type": "code",
   "execution_count": 101,
   "metadata": {},
   "outputs": [
    {
     "name": "stderr",
     "output_type": "stream",
     "text": [
      "/usr/local/lib/python3.9/site-packages/tensorflow/python/keras/engine/sequential.py:430: UserWarning: `model.predict_proba()` is deprecated and will be removed after 2021-01-01. Please use `model.predict()` instead.\n",
      "  warnings.warn('`model.predict_proba()` is deprecated and '\n"
     ]
    },
    {
     "data": {
      "text/plain": [
       "array([[1.3156740e-05, 2.4121773e-06, 1.4399477e-05, ..., 1.3076741e-01,\n",
       "        3.6488517e-04, 7.8232443e-01],\n",
       "       [9.9224606e-05, 3.6931475e-08, 9.6212244e-01, ..., 2.4948422e-11,\n",
       "        1.3955003e-05, 7.2877859e-10],\n",
       "       [6.7426367e-06, 9.9998486e-01, 6.5050887e-07, ..., 1.0465291e-11,\n",
       "        1.9565973e-09, 2.5397479e-10],\n",
       "       ...,\n",
       "       [1.9883195e-02, 1.3330028e-05, 1.5924526e-03, ..., 4.4957025e-05,\n",
       "        9.6116906e-01, 2.9142807e-06],\n",
       "       [3.1884199e-05, 9.9689507e-01, 3.3740911e-05, ..., 3.0009915e-08,\n",
       "        6.5518464e-07, 1.8049963e-07],\n",
       "       [8.1025901e-05, 2.3880642e-05, 2.7011210e-04, ..., 1.3314620e-01,\n",
       "        6.6031152e-03, 1.0581925e-02]], dtype=float32)"
      ]
     },
     "execution_count": 101,
     "metadata": {},
     "output_type": "execute_result"
    }
   ],
   "source": [
    "# Можно предсказать вероятности для тестовой выборки\n",
    "model.predict_proba(X_test)"
   ]
  },
  {
   "cell_type": "code",
   "execution_count": 102,
   "metadata": {},
   "outputs": [
    {
     "name": "stderr",
     "output_type": "stream",
     "text": [
      "/usr/local/lib/python3.9/site-packages/tensorflow/python/keras/engine/sequential.py:455: UserWarning: `model.predict_classes()` is deprecated and will be removed after 2021-01-01. Please use instead:* `np.argmax(model.predict(x), axis=-1)`,   if your model does multi-class classification   (e.g. if it uses a `softmax` last-layer activation).* `(model.predict(x) > 0.5).astype(\"int32\")`,   if your model does binary classification   (e.g. if it uses a `sigmoid` last-layer activation).\n",
      "  warnings.warn('`model.predict_classes()` is deprecated and '\n"
     ]
    },
    {
     "data": {
      "text/plain": [
       "array([9, 2, 1, ..., 8, 1, 5])"
      ]
     },
     "execution_count": 102,
     "metadata": {},
     "output_type": "execute_result"
    }
   ],
   "source": [
    "# А можно классы \n",
    "model.predict_classes(X_test)"
   ]
  },
  {
   "cell_type": "code",
   "execution_count": 103,
   "metadata": {},
   "outputs": [
    {
     "data": {
      "text/plain": [
       "<tf.Tensor: shape=(), dtype=float32, numpy=0.4332375>"
      ]
     },
     "execution_count": 103,
     "metadata": {},
     "output_type": "execute_result"
    }
   ],
   "source": [
    "# Можно найти logloss \n",
    "loss_function(y_test,model.predict_proba(X_test))"
   ]
  },
  {
   "cell_type": "code",
   "execution_count": 104,
   "metadata": {},
   "outputs": [
    {
     "data": {
      "text/plain": [
       "[0.43323734402656555, 0.8440999984741211]"
      ]
     },
     "execution_count": 104,
     "metadata": {},
     "output_type": "execute_result"
    }
   ],
   "source": [
    "# Можно посмотреть на качество модели по всем указанным при коммпиляции метрикам. \n",
    "score = model.evaluate(X_test, y_test, verbose=0)\n",
    "score "
   ]
  },
  {
   "cell_type": "markdown",
   "metadata": {},
   "source": [
    "Этот способ учить модели более простой, но менее универсальный. В будущем мы увидим довольно много ограничений, которые на нас накладывает такой подход."
   ]
  },
  {
   "cell_type": "markdown",
   "metadata": {},
   "source": [
    "# N+1. Как Tensorflow работал раньше \n",
    "\n",
    "Больше такой код не надо писать никогда и нигде. Если видите его в туториалах в интернете, сразу закрывайте их. Эти туториалы устарели. Можете попробовать подуть на них (сдуть слой пыли), а дальше попробовать самостоятельно переписать старый код на новый. Это неплохое упражнение :) "
   ]
  },
  {
   "cell_type": "code",
   "execution_count": null,
   "metadata": {},
   "outputs": [],
   "source": [
    "import tensorflow.compat.v1 as tf  # подгружаем первую версию библиотеки \n",
    "tf.disable_v2_behavior()           # отключаем функционал второй \n",
    "                                   # теперь код, написанный на версии tf 1.x должен работать \n",
    "tf.__version__"
   ]
  },
  {
   "cell_type": "markdown",
   "metadata": {},
   "source": [
    "Раньше сначала надо было задать структуру вычислений с помощью тензоров. "
   ]
  },
  {
   "cell_type": "code",
   "execution_count": null,
   "metadata": {},
   "outputs": [],
   "source": [
    "# что происходило в первой версии \n",
    "a = tf.constant([1, 2])\n",
    "b = tf.constant([3, 4])\n",
    "\n",
    "print(a + b)"
   ]
  },
  {
   "cell_type": "markdown",
   "metadata": {},
   "source": [
    "Результат на лету было увидеть нельзя. "
   ]
  },
  {
   "cell_type": "code",
   "execution_count": null,
   "metadata": {},
   "outputs": [],
   "source": [
    "c = a + b\n",
    "с"
   ]
  },
  {
   "cell_type": "markdown",
   "metadata": {},
   "source": [
    "Если хотелось результата, надо было запускать вычислительную сессию, которая прогоняла все данные через граф."
   ]
  },
  {
   "cell_type": "code",
   "execution_count": null,
   "metadata": {},
   "outputs": [],
   "source": [
    "# открываем вычислительную сессию \n",
    "with tf.Session() as sess:\n",
    "    print(sess.run(с))"
   ]
  },
  {
   "cell_type": "code",
   "execution_count": null,
   "metadata": {},
   "outputs": [],
   "source": [
    "# либо можно было открыть глобальную сессию \n",
    "sess = tf.InteractiveSession()\n",
    "c.eval()"
   ]
  },
  {
   "cell_type": "markdown",
   "metadata": {},
   "source": [
    "Процедура обучения модели выглядела раньше иначе. Кроме переменных в обучении участие принимал ещё один объект, `placeholder`. \n",
    "\n",
    "* __placeholder__ — место в графе, которое может принимать входные параметры в граф извне. В эти места мы будем вставлять наши данные"
   ]
  },
  {
   "cell_type": "code",
   "execution_count": null,
   "metadata": {},
   "outputs": [],
   "source": [
    "epochs = 10\n",
    "\n",
    "# плейсхолдеры для данных \n",
    "# \"Я обещаю вставить сюда x и y позже\"\n",
    "x = tf.placeholder(tf.float32)\n",
    "y = tf.placeholder(tf.float32)\n",
    "\n",
    "# параметры модели \n",
    "a = tf.Variable(tf.zeros([1]), name='bias')\n",
    "b = tf.Variable(tf.zeros([1]), name='k')\n",
    "\n",
    "# модель \n",
    "y_hat = b*x + a\n",
    "\n",
    "# функция потерь и метод оптимизации\n",
    "loss = tf.sqrt(tf.reduce_sum((y - y_hat)**2))\n",
    "opt = tf.train.AdamOptimizer(learning_rate = 0.1)\n",
    "\n",
    "# из-за того, что не было динамических вычислений, \n",
    "# было проще с градиентами\n",
    "step = opt.minimize(loss)\n",
    "\n",
    "# Но зато было сложнее с процедурой обучения, надо было запускать ... сессии\n",
    "# открываем вычислительную сессию \n",
    "with tf.Session() as sess:\n",
    "    \n",
    "    # инициализировали все переменные \n",
    "    tf.global_variables_initializer().run() \n",
    "    \n",
    "    for i in range(epochs):\n",
    "        \n",
    "        # Дорогая сессия, вычисли мне результат функции потерь, пожалуйста! Вот тебе конкретные x и y! \n",
    "        cur_loss = sess.run(loss, feed_dict={x:celsius, y:fahrenheit})\n",
    "        print('Текущие потери:', cur_loss)\n",
    "        \n",
    "        # шаг оптимизации \n",
    "        sess.run(step, feed_dict={x:celsius, y:fahrenheit})\n",
    "        \n",
    "    print('\\nКоэффициенты:', a.eval()[0], b.eval()[0])\n",
    "    print('Прогнозы:', sess.run(y_hat, feed_dict={x:[-40,0,38]}))"
   ]
  },
  {
   "cell_type": "markdown",
   "metadata": {},
   "source": [
    "## Почиташки\n",
    "\n",
    "* [Эффективный tensorflow 2.0](https://www.tensorflow.org/guide/effective_tf2)\n",
    "* [Простые примеры кода на tensorflow 2.0](https://github.com/aymericdamien/TensorFlow-Examples/tree/master/tensorflow_v2)\n",
    "* [Очень-очень милая презентация про fashion mnist](https://github.com/fbchow/fashion-mnist-tensorflow/blob/master/ml-fashion-mnist-presentation.pdf)\n",
    "\n",
    "\n",
    "__Немного старья:__\n",
    "\n",
    "* [Введение в старую версию Tensorflow на Хабре](https://habrahabr.ru/company/ods/blog/324898/)\n",
    "* [Введение в старый Tensorflow от ШАД,](https://nbviewer.jupyter.org/github/yandexdataschool/Practical_DL/blob/fall18/week02_autodiff/seminar_tensorflow.ipynb) моя тетрадка частично основана на этой тетрадке, хоть сходство на первый взгляд и не заметно. \n",
    "* [Неплохая подборка разных тетрадок](https://github.com/Hvass-Labs/TensorFlow-Tutorials) на разном tensorflow"
   ]
  },
  {
   "cell_type": "markdown",
   "metadata": {},
   "source": [
    "  "
   ]
  }
 ],
 "metadata": {
  "kernelspec": {
   "display_name": "Python 3 (ipykernel)",
   "language": "python",
   "name": "python3"
  },
  "language_info": {
   "codemirror_mode": {
    "name": "ipython",
    "version": 3
   },
   "file_extension": ".py",
   "mimetype": "text/x-python",
   "name": "python",
   "nbconvert_exporter": "python",
   "pygments_lexer": "ipython3",
   "version": "3.10.2"
  },
  "varInspector": {
   "cols": {
    "lenName": 16,
    "lenType": 16,
    "lenVar": 40
   },
   "kernels_config": {
    "python": {
     "delete_cmd_postfix": "",
     "delete_cmd_prefix": "del ",
     "library": "var_list.py",
     "varRefreshCmd": "print(var_dic_list())"
    },
    "r": {
     "delete_cmd_postfix": ") ",
     "delete_cmd_prefix": "rm(",
     "library": "var_list.r",
     "varRefreshCmd": "cat(var_dic_list()) "
    }
   },
   "types_to_exclude": [
    "module",
    "function",
    "builtin_function_or_method",
    "instance",
    "_Feature"
   ],
   "window_display": false
  }
 },
 "nbformat": 4,
 "nbformat_minor": 2
}
